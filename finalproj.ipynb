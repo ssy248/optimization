{
 "cells": [
  {
   "cell_type": "code",
   "execution_count": 1,
   "metadata": {
    "collapsed": false
   },
   "outputs": [],
   "source": [
    "using JuMPeR, Mosek, Distributions"
   ]
  },
  {
   "cell_type": "code",
   "execution_count": 58,
   "metadata": {
    "collapsed": false
   },
   "outputs": [
    {
     "data": {
      "text/plain": [
       "400x10 Array{Float64,2}:\n",
       " -1.62473     0.105063    -0.0234028  …   1.49033     1.47383     1.33363  \n",
       "  1.88776     0.701751     0.835846       0.512619    0.469131   -1.17615  \n",
       " -0.261563   -0.0365803   -1.17822       -0.75471    -1.53489     0.0925674\n",
       "  2.41607     1.91066      0.443746      -1.14179    -0.301411    2.44146  \n",
       "  0.115944    0.459139    -1.06758       -0.584539    1.06299    -0.790475 \n",
       "  0.144107   -1.10848     -0.659711   …  -1.29693    -0.365249    0.41391  \n",
       "  1.17321     0.123089     0.644203       0.177104   -0.0265702  -0.475053 \n",
       " -0.233699    0.427306    -0.480776       0.737427   -0.582324   -0.320118 \n",
       " -1.56815    -0.909241     0.382217       1.24056    -0.912435    0.577393 \n",
       "  1.40695     0.881897     0.950305       1.26945     0.208892   -0.552742 \n",
       " -2.38685    -1.03757     -1.65808    …   0.624335   -1.03969    -0.329298 \n",
       "  1.08237    -0.406856    -0.0935209      0.0282543   1.74356     1.93013  \n",
       "  0.230246    0.959025     0.975564      -1.56506    -1.25707     0.114034 \n",
       "  ⋮                                   ⋱                                    \n",
       " -0.427147   -0.481569     1.90174       -0.468979    0.304248    0.318959 \n",
       "  0.494047   -0.163387    -0.550972       0.0515406  -2.3596     -0.426563 \n",
       "  0.0928139  -0.344339     0.0837759  …  -0.443456    0.237493    0.383034 \n",
       "  0.156846    0.65779      1.5946         0.386127    0.526201    1.96975  \n",
       "  0.715383    1.84926      0.0117664     -0.238703   -0.567127    2.18737  \n",
       " -1.44192     0.107531     1.11563        0.0213023   0.354434    0.293474 \n",
       "  0.518205   -0.934726    -0.860423      -1.21937    -1.70439    -0.540608 \n",
       "  0.421464   -0.00862422  -0.683943   …   0.562184    1.3005     -0.382905 \n",
       " -0.0441465   0.0828629   -0.832545       0.941412    0.319556    0.534442 \n",
       "  1.39823     0.868772    -1.61338        0.942202    0.218777   -0.79546  \n",
       " -0.0102024  -0.16194     -0.820186       1.25195     0.301204   -0.163414 \n",
       "  1.31442    -0.0137239    1.26245        0.216957   -0.351876   -0.54534  "
      ]
     },
     "execution_count": 58,
     "metadata": {},
     "output_type": "execute_result"
    }
   ],
   "source": [
    "#generates some random weights between lv and lv+rng\n",
    "function genWeightData(numc, numw)\n",
    "    randn(numw, numc)\n",
    "end\n",
    "wd=genWeightData(10, 400)"
   ]
  },
  {
   "cell_type": "code",
   "execution_count": 6,
   "metadata": {
    "collapsed": false
   },
   "outputs": [
    {
     "data": {
      "text/plain": [
       "compute_cs (generic function with 1 method)"
      ]
     },
     "execution_count": 6,
     "metadata": {},
     "output_type": "execute_result"
    }
   ],
   "source": [
    "include(\"src/helpers.jl\")"
   ]
  },
  {
   "cell_type": "code",
   "execution_count": 160,
   "metadata": {
    "collapsed": false
   },
   "outputs": [
    {
     "data": {
      "text/plain": [
       "400x10 Array{Float64,2}:\n",
       " -1.62473     0.105063    -0.0234028  …   1.49033     1.47383     1.33363  \n",
       "  1.88776     0.701751     0.835846       0.512619    0.469131   -1.17615  \n",
       " -0.261563   -0.0365803   -1.17822       -0.75471    -1.53489     0.0925674\n",
       "  2.41607     1.91066      0.443746      -1.14179    -0.301411    2.44146  \n",
       "  0.115944    0.459139    -1.06758       -0.584539    1.06299    -0.790475 \n",
       "  0.144107   -1.10848     -0.659711   …  -1.29693    -0.365249    0.41391  \n",
       "  1.17321     0.123089     0.644203       0.177104   -0.0265702  -0.475053 \n",
       " -0.233699    0.427306    -0.480776       0.737427   -0.582324   -0.320118 \n",
       " -1.56815    -0.909241     0.382217       1.24056    -0.912435    0.577393 \n",
       "  1.40695     0.881897     0.950305       1.26945     0.208892   -0.552742 \n",
       " -2.38685    -1.03757     -1.65808    …   0.624335   -1.03969    -0.329298 \n",
       "  1.08237    -0.406856    -0.0935209      0.0282543   1.74356     1.93013  \n",
       "  0.230246    0.959025     0.975564      -1.56506    -1.25707     0.114034 \n",
       "  ⋮                                   ⋱                                    \n",
       " -0.427147   -0.481569     1.90174       -0.468979    0.304248    0.318959 \n",
       "  0.494047   -0.163387    -0.550972       0.0515406  -2.3596     -0.426563 \n",
       "  0.0928139  -0.344339     0.0837759  …  -0.443456    0.237493    0.383034 \n",
       "  0.156846    0.65779      1.5946         0.386127    0.526201    1.96975  \n",
       "  0.715383    1.84926      0.0117664     -0.238703   -0.567127    2.18737  \n",
       " -1.44192     0.107531     1.11563        0.0213023   0.354434    0.293474 \n",
       "  0.518205   -0.934726    -0.860423      -1.21937    -1.70439    -0.540608 \n",
       "  0.421464   -0.00862422  -0.683943   …   0.562184    1.3005     -0.382905 \n",
       " -0.0441465   0.0828629   -0.832545       0.941412    0.319556    0.534442 \n",
       "  1.39823     0.868772    -1.61338        0.942202    0.218777   -0.79546  \n",
       " -0.0102024  -0.16194     -0.820186       1.25195     0.301204   -0.163414 \n",
       "  1.31442    -0.0137239    1.26245        0.216957   -0.351876   -0.54534  "
      ]
     },
     "execution_count": 160,
     "metadata": {},
     "output_type": "execute_result"
    }
   ],
   "source": [
    "wd"
   ]
  },
  {
   "cell_type": "code",
   "execution_count": 14,
   "metadata": {
    "collapsed": false
   },
   "outputs": [
    {
     "data": {
      "text/plain": [
       "UDYOracle(0.1,0.09082099531244618,1.7800228310165076,[-0.01533808340820686,-0.04846073845096539,0.026192796915725968,0.04789368555697526,-0.07914668478413006,0.030402019531376664,-0.061888209800156635,0.11397722576919711,0.05761326687052237,0.026648201268432547],10x10 Array{Float64,2}:\n",
       "  0.953557    -0.0879357    0.0274357   …  -0.0333673   0.0988593   0.0504212\n",
       " -0.0879357    1.13758     -0.00567206     -0.0183064  -0.0340708  -0.0265832\n",
       "  0.0274357   -0.00567206   0.728003        0.118723    0.0291288  -0.0692347\n",
       "  0.15531      0.0879672    0.00886217     -0.0302159   0.0341074  -0.0213283\n",
       "  0.0918593    0.064344     0.0250769       0.06961     0.0396338   0.0663108\n",
       "  0.103637     0.0601088    0.0145757   …  -0.0553338  -0.0280999   0.0289725\n",
       "  0.00771412  -0.00367933  -0.0465209       0.0494958   0.0736784  -0.0471557\n",
       " -0.0333673   -0.0183064    0.118723        0.807227    0.060575   -0.0720189\n",
       "  0.0988593   -0.0340708    0.0291288       0.060575    1.02019    -0.0234218\n",
       "  0.0504212   -0.0265832   -0.0692347      -0.0720189  -0.0234218   1.03883  ,10x10 Array{Float64,2}:\n",
       " 1.06245  0.10416   -0.0404891  …   0.0510847  -0.0946731  -0.0445134\n",
       " 0.0      0.945396   0.0105616      0.0192964   0.0349181   0.0312867\n",
       " 0.0      0.0        1.19309       -0.170799   -0.0261786   0.0722985\n",
       " 0.0      0.0        0.0            0.0402027  -0.0367863   0.0227321\n",
       " 0.0      0.0        0.0           -0.0953605  -0.0331622  -0.0768981\n",
       " 0.0      0.0        0.0        …   0.0607931   0.0164083  -0.0191317\n",
       " 0.0      0.0        0.0           -0.0526527  -0.068225    0.0402389\n",
       " 0.0      0.0        0.0            1.11885    -0.064686    0.076108 \n",
       " 0.0      0.0        0.0            0.0         0.990312    0.0223278\n",
       " 0.0      0.0        0.0            0.0         0.0         0.98113  ,1.0e-6,Feasibility problem with:\n",
       " * 0 linear constraints\n",
       " * 0 variables\n",
       "Solver is MosekMathProg,Empty Array{Variable} (no indices),false)"
      ]
     },
     "execution_count": 14,
     "metadata": {},
     "output_type": "execute_result"
    }
   ],
   "source": [
    "or1 = UDYOracle(wd, 0.1, 0.1)"
   ]
  },
  {
   "cell_type": "code",
   "execution_count": 24,
   "metadata": {
    "collapsed": false
   },
   "outputs": [
    {
     "ename": "LoadError",
     "evalue": "LoadError: MethodError: `convert` has no method matching convert(::Type{Array{Float64,1}}, ::Int64)\nThis may have arisen from a call to the constructor Array{Float64,1}(...),\nsince type constructors fall back to convert methods.\nClosest candidates are:\n  Array{T}(::Integer)\n  call{T}(::Type{T}, ::Any)\n  convert{T}(::Type{Array{T,1}}, !Matched::Range{T})\n  ...\nwhile loading In[24], in expression starting on line 1",
     "output_type": "error",
     "traceback": [
      "LoadError: MethodError: `convert` has no method matching convert(::Type{Array{Float64,1}}, ::Int64)\nThis may have arisen from a call to the constructor Array{Float64,1}(...),\nsince type constructors fall back to convert methods.\nClosest candidates are:\n  Array{T}(::Integer)\n  call{T}(::Type{T}, ::Any)\n  convert{T}(::Type{Array{T,1}}, !Matched::Range{T})\n  ...\nwhile loading In[24], in expression starting on line 1",
      "",
      " in UMOracle at /Users/serenayuan/.julia/v0.4/DDUS/src/UMOracle.jl:55"
     ]
    }
   ],
   "source": [
    "or2 = UMOracle(wd1, 0, 100, 0.1, 0.2)"
   ]
  },
  {
   "cell_type": "raw",
   "metadata": {},
   "source": [
    "or3= UIOracle(wd, 0, 100, 0.1, 0.2)"
   ]
  },
  {
   "cell_type": "code",
   "execution_count": 25,
   "metadata": {
    "collapsed": false
   },
   "outputs": [
    {
     "ename": "LoadError",
     "evalue": "LoadError: UndefVarError: or3 not defined\nwhile loading In[25], in expression starting on line 4",
     "output_type": "error",
     "traceback": [
      "LoadError: UndefVarError: or3 not defined\nwhile loading In[25], in expression starting on line 4",
      ""
     ]
    }
   ],
   "source": [
    "capacity=400\n",
    "cost = 10\n",
    "m = RobustModel()\n",
    "setDefaultOracle!(m, or3)\n",
    "@defVar(m, costs[1:cost] <=100)\n",
    "# bin var\n",
    "@defVar(m, -0.5 <= xs[1:cost] <= 1.5, Int)\n",
    "@defUnc(m, wt[1:cost] <= 1)\n",
    "@addConstraint(m, sum{wt[i]*xs[i], i=1:cost} <= capacity)\n",
    "@setObjective(m, Max, sum{costs[i] * xs[i], i=1:cost})"
   ]
  },
  {
   "cell_type": "code",
   "execution_count": 19,
   "metadata": {
    "collapsed": false
   },
   "outputs": [
    {
     "ename": "LoadError",
     "evalue": "LoadError: UDYOracle hasn't implemented registerConstraint\nwhile loading In[19], in expression starting on line 1",
     "output_type": "error",
     "traceback": [
      "LoadError: UDYOracle hasn't implemented registerConstraint\nwhile loading In[19], in expression starting on line 1",
      ""
     ]
    }
   ],
   "source": [
    "solve(m, prefer_cuts= true)"
   ]
  },
  {
   "cell_type": "code",
   "execution_count": 143,
   "metadata": {
    "collapsed": false
   },
   "outputs": [
    {
     "data": {
      "text/plain": [
       "3x3 Array{Float64,2}:\n",
       " 0.0224507  0.0354923  0.0425084\n",
       " 0.0354923  0.322306   0.349733 \n",
       " 0.0425084  0.349733   0.423159 "
      ]
     },
     "execution_count": 143,
     "metadata": {},
     "output_type": "execute_result"
    }
   ],
   "source": [
    "using StatsBase\n",
    "\n",
    "using DataFrames\n",
    "\n",
    "# load data\n",
    "\n",
    "\n",
    "#prices = int(open(readdlm,\"petcodatafile.txt\"))\n",
    "#squeeze(prices,2)\n",
    "\n",
    "\n",
    "ebb =readdlm(\"ebaycsv.csv\",',')\n",
    "# delete first row of label\n",
    "ebb1 =ebb[1:size(ebb,1) .!= 1,: ]\n",
    "# attributes\n",
    "\n",
    "a1 =float64(ebb1[:, 2])\n",
    "a2 = float64(ebb1[:, 3])\n",
    "a3 =float64(ebb1[:, 4])\n",
    "\n",
    "# expd returns , variance\n",
    "ret= float64(zeros(108));\n",
    "\n",
    "# calculate \n",
    "for i in 2:108\n",
    "    ret[i] = a1[i]/(a1[i-1]-1) \n",
    "end\n",
    "\n",
    "r = hcat(ret, 12*a2, 12*a3)\n",
    "#prices = float64(prices)\n",
    "\n",
    "#rowsize = 108\n",
    "#colsize = size(prices,2)\n",
    "\n",
    "\n",
    "\n",
    "\n",
    "\n",
    "# cov\n",
    "Q= cov(ret)\n",
    "\n",
    "covar = cov(r)"
   ]
  },
  {
   "cell_type": "code",
   "execution_count": null,
   "metadata": {
    "collapsed": true
   },
   "outputs": [],
   "source": [
    "oracle= LCXOracle(sr, 0.2, 0.2)"
   ]
  },
  {
   "cell_type": "code",
   "execution_count": 7,
   "metadata": {
    "collapsed": false,
    "scrolled": false
   },
   "outputs": [
    {
     "ename": "LoadError",
     "evalue": "LoadError: UndefVarError: UCSOracle not defined\nwhile loading In[7], in expression starting on line 1",
     "output_type": "error",
     "traceback": [
      "LoadError: UndefVarError: UCSOracle not defined\nwhile loading In[7], in expression starting on line 1",
      ""
     ]
    }
   ],
   "source": [
    "oracle= UCSOracle(sr, 0.1, 0.1)"
   ]
  },
  {
   "cell_type": "code",
   "execution_count": 144,
   "metadata": {
    "collapsed": false
   },
   "outputs": [
    {
     "data": {
      "text/plain": [
       "108x3 Array{Float64,2}:\n",
       " 0.0        0.221628   0.267396\n",
       " 1.02134   -0.191832   0.02532 \n",
       " 1.06729    0.137652   0.07854 \n",
       " 1.05568    0.46146    0.324528\n",
       " 0.988464   0.439716   0.277476\n",
       " 1.01965   -0.193404  -0.094872\n",
       " 1.03913   -0.393144  -0.522444\n",
       " 1.08599    0.116136  -0.140844\n",
       " 1.17885    0.471984   0.304356\n",
       " 0.9495     0.296304   0.208872\n",
       " 0.955271  -0.6153    -0.919404\n",
       " 1.02029   -0.07818   -0.131868\n",
       " 0.835353  -0.759024  -0.540984\n",
       " ⋮                             \n",
       " 0.961538  -0.338676  -0.228876\n",
       " 1.11365    0.643332   0.649476\n",
       " 1.01353   -0.14706   -0.061644\n",
       " 1.02788    0.090876   0.181524\n",
       " 1.0716     0.097968   0.047472\n",
       " 0.998012  -0.2544    -0.161724\n",
       " 0.474679   0.130572  -0.325776\n",
       " 0.999631  -0.744708  -0.567468\n",
       " 0.93604   -0.42804   -0.599292\n",
       " 1.19027    0.870768   0.634152\n",
       " 1.1        0.002112   0.08796 \n",
       " 0.961175  -0.294024  -0.43098 "
      ]
     },
     "execution_count": 144,
     "metadata": {},
     "output_type": "execute_result"
    }
   ],
   "source": [
    "r"
   ]
  },
  {
   "cell_type": "code",
   "execution_count": 145,
   "metadata": {
    "collapsed": false
   },
   "outputs": [
    {
     "data": {
      "text/plain": [
       "DDUS.UCSOracle(0.1,0.16034273643663666,0.27392149386984466,[1.0294856515650634,0.048149555555555536,0.06348655555555553],3x3 Array{Float64,2}:\n",
       " 0.296372   0.0354923  0.0425084\n",
       " 0.0354923  0.596227   0.349733 \n",
       " 0.0425084  0.349733   0.69708  ,3x3 Array{Float64,2}:\n",
       " 0.544401  0.0651952  0.0780829\n",
       " 0.0       0.7694     0.447936 \n",
       " 0.0       0.0        0.700241 ,1.0e-6,Feasibility problem with:\n",
       " * 0 linear constraints\n",
       " * 0 variables\n",
       "Solver is default solver,Empty Array{Variable} (no indices),true,false)"
      ]
     },
     "execution_count": 145,
     "metadata": {},
     "output_type": "execute_result"
    }
   ],
   "source": [
    "or3= UCSOracle(r, 0.1, 0.1)"
   ]
  },
  {
   "cell_type": "code",
   "execution_count": null,
   "metadata": {
    "collapsed": false
   },
   "outputs": [],
   "source": [
    "m = RobustModel()\n",
    "setDefaultOracle!(m, oracle)"
   ]
  },
  {
   "cell_type": "code",
   "execution_count": 156,
   "metadata": {
    "collapsed": false
   },
   "outputs": [
    {
     "data": {
      "text/latex": [
       "$$ t $$"
      ],
      "text/plain": [
       "t"
      ]
     },
     "execution_count": 156,
     "metadata": {},
     "output_type": "execute_result"
    }
   ],
   "source": [
    "\n",
    "c= covar[1,:] + covar[2,:] + covar[3,:]\n",
    "sumc = c[1]+ c[2]+ c[3]\n",
    "@defUnc(m, mu[1:3])\n",
    "@defVar(m, 0<=t <=100)\n",
    "@defVar(m, t1 >=0)\n",
    "@defVar(m, x[1:3] >= 0)\n",
    "@defVar(m, sum1[1:3] )\n",
    "@defVar(m, 1 <= lambda <=10)\n",
    "\n",
    "#@defVar(m, q[1:3] == x*covar[1,:]*x + x*covar[2,:]*x + x*covar[3,:]*x)\n",
    "@addConstraint(m, sum(sum1)== sumc)\n",
    "@addConstraint(m, sum(x) == 1)\n",
    "@addConstraint(m, sum{-mu[i] * x[i], i=1:3}+ lambda*sumc <=t)\n",
    "\n",
    "\n",
    "@setObjective(m, Min, t)"
   ]
  },
  {
   "cell_type": "code",
   "execution_count": 159,
   "metadata": {
    "collapsed": false
   },
   "outputs": [
    {
     "name": "stdout",
     "output_type": "stream",
     "text": [
      "Obj Value:\t2.486539196973916\n",
      "Portfolio:\t[1.0,0.0,0.0]\n",
      "lambda:\t1.0\n"
     ]
    },
    {
     "ename": "LoadError",
     "evalue": "LoadError: MethodError: `getValue` has no method matching getValue(::JuMPeR.Uncertain)\nwhile loading In[159], in expression starting on line 5",
     "output_type": "error",
     "traceback": [
      "LoadError: MethodError: `getValue` has no method matching getValue(::JuMPeR.Uncertain)\nwhile loading In[159], in expression starting on line 5",
      ""
     ]
    }
   ],
   "source": [
    "solve(m, prefer_cuts=true)\n",
    "println(\"Obj Value:\\t\", getObjectiveValue(m))\n",
    "println(\"Portfolio:\\t\", getValue(x))\n",
    "println(\"lambda:\\t\", getValue(lambda))\n",
    "println(\"uncert set:\\t\", getValue(mu))\n"
   ]
  },
  {
   "cell_type": "code",
   "execution_count": 76,
   "metadata": {
    "collapsed": false
   },
   "outputs": [
    {
     "data": {
      "text/plain": [
       "chiSqVarCov (generic function with 1 method)"
      ]
     },
     "execution_count": 76,
     "metadata": {},
     "output_type": "execute_result"
    }
   ],
   "source": [
    "include(\"examples/AmbiguitySets-master/src/chiSqVar.jl\")"
   ]
  },
  {
   "cell_type": "code",
   "execution_count": 31,
   "metadata": {
    "collapsed": false
   },
   "outputs": [
    {
     "data": {
      "text/plain": [
       "cov_const (generic function with 1 method)"
      ]
     },
     "execution_count": 31,
     "metadata": {},
     "output_type": "execute_result"
    }
   ],
   "source": [
    "include(\"examples/AmbiguitySets-master/src/asymptotics.jl\")"
   ]
  },
  {
   "cell_type": "code",
   "execution_count": 32,
   "metadata": {
    "collapsed": false
   },
   "outputs": [
    {
     "data": {
      "text/plain": [
       "mult_bracket (generic function with 1 method)"
      ]
     },
     "execution_count": 32,
     "metadata": {},
     "output_type": "execute_result"
    }
   ],
   "source": [
    "include(\"examples/AmbiguitySets-master/src/klVar.jl\")"
   ]
  },
  {
   "cell_type": "code",
   "execution_count": 33,
   "metadata": {
    "collapsed": false
   },
   "outputs": [
    {
     "name": "stderr",
     "output_type": "stream",
     "text": [
      "\n",
      "WARNING: deprecated syntax \"{}\" at /Users/serenayuan/Desktop/codefor2016/DDUS.jl-master/examples/AmbiguitySets-master/src/oracles.jl:25.\n",
      "Use \"[]\" instead.\n"
     ]
    },
    {
     "data": {
      "text/plain": [
       "Dir"
      ]
     },
     "execution_count": 33,
     "metadata": {},
     "output_type": "execute_result"
    }
   ],
   "source": [
    "include(\"examples/AmbiguitySets-master/src/DirRes.jl\")"
   ]
  },
  {
   "cell_type": "code",
   "execution_count": 55,
   "metadata": {
    "collapsed": false
   },
   "outputs": [
    {
     "name": "stdout",
     "output_type": "stream",
     "text": [
      "Size:\t0.4373454978131813\n"
     ]
    },
    {
     "data": {
      "text/plain": [
       "ChiSqSet(200x10 Array{Float64,2}:\n",
       "  0.0127659   -0.0307405   -0.0572956   …  -0.0418294   -0.0615148 \n",
       "  0.00563728  -0.101579     0.021633       -0.0290175   -0.0470471 \n",
       " -0.0254356    0.0492752    0.0178872       0.0204641   -0.105046  \n",
       "  0.0901175    0.0502285   -0.0114307      -0.0392994   -0.0389917 \n",
       "  0.0822558   -0.0968459    0.0825312      -0.0351711    0.0984397 \n",
       " -0.0187951   -0.102503     0.0753357   …   0.00610007  -0.0452045 \n",
       " -0.0313323    0.0365546    0.0550202       0.0316502   -0.0436429 \n",
       " -0.0452628   -0.0508075    0.0102195       0.0289209    0.0102243 \n",
       " -0.153169    -0.0577669   -0.057861       -0.0846369    0.0243971 \n",
       "  0.0437374    0.0174943   -0.0352643      -0.0639202    0.0614043 \n",
       " -0.0218832    0.00560413   0.00774536  …  -0.0349149   -0.0780628 \n",
       " -0.0380533    0.0275314    0.0375179       0.108889    -0.0870365 \n",
       " -0.0123362   -0.0063881   -0.0238964       0.0181941   -0.0160378 \n",
       "  ⋮                                     ⋱                          \n",
       "  0.0196463    0.00315624  -0.0398405       0.0745595    0.0318049 \n",
       " -0.0411813    0.0222308   -0.0117417       0.0535168    0.0219784 \n",
       " -0.00178733  -0.0681324   -0.00217855  …   0.0126841    0.0503555 \n",
       " -0.0404303    0.0115839    0.070507       -0.0805281   -0.00828457\n",
       " -0.0580552   -0.100647     0.00962192      0.00971937  -0.0500966 \n",
       " -0.0249497    0.0227699    0.0519928       0.0567322    0.0190838 \n",
       "  0.0446059   -0.00433885  -0.00972444      0.0520541   -0.0430371 \n",
       " -0.00587013   0.02592      0.0362383   …  -0.0252955   -0.00143746\n",
       "  0.0275799   -0.090421    -0.0738049       0.062636    -0.0350699 \n",
       " -0.0561025    0.0135472   -0.0232011      -0.0508499    0.0796728 \n",
       "  0.0505397   -0.0423787    0.0171253       0.0425445   -0.0617319 \n",
       " -0.0452065   -0.0057222    0.00827974     -0.0226465   -0.082253  ,0.4373454978131813,false,1.0e-6)"
      ]
     },
     "execution_count": 55,
     "metadata": {},
     "output_type": "execute_result"
    }
   ],
   "source": [
    "css = ChiSqSet(wd, 0.1)"
   ]
  },
  {
   "cell_type": "code",
   "execution_count": 59,
   "metadata": {
    "collapsed": false
   },
   "outputs": [
    {
     "data": {
      "text/latex": [
       "$$ t $$"
      ],
      "text/plain": [
       "t"
      ]
     },
     "execution_count": 59,
     "metadata": {},
     "output_type": "execute_result"
    }
   ],
   "source": [
    "capacity=400\n",
    "cost = 10\n",
    "m = RobustModel()\n",
    "setDefaultOracle!(m, css)\n",
    "@defVar(m, costs[1:cost] <=100)\n",
    "@defVar(m, t>=0)\n",
    "# bin var\n",
    "@defVar(m, -0.5 <= xs[1:cost] <= 1.5, Int)\n",
    "@defUnc(m, wt[1:cost] <= 1)\n",
    "@addConstraint(m, sum{costs[i] * xs[i], i=1:cost}>=t)\n",
    "@addConstraint(m, sum{wt[i]*xs[i], i=1:cost} <= capacity)\n",
    "@setObjective(m, Max, t)"
   ]
  },
  {
   "cell_type": "code",
   "execution_count": 60,
   "metadata": {
    "collapsed": false
   },
   "outputs": [
    {
     "ename": "LoadError",
     "evalue": "LoadError: ChiSqSet hasn't implemented registerConstraint\nwhile loading In[60], in expression starting on line 1",
     "output_type": "error",
     "traceback": [
      "LoadError: ChiSqSet hasn't implemented registerConstraint\nwhile loading In[60], in expression starting on line 1",
      ""
     ]
    }
   ],
   "source": [
    "solve(m, prefer_cuts=true)"
   ]
  },
  {
   "cell_type": "code",
   "execution_count": 46,
   "metadata": {
    "collapsed": false
   },
   "outputs": [
    {
     "ename": "LoadError",
     "evalue": "LoadError: UndefVarError: UChiSquaredOracle not defined\nwhile loading In[46], in expression starting on line 1",
     "output_type": "error",
     "traceback": [
      "LoadError: UndefVarError: UChiSquaredOracle not defined\nwhile loading In[46], in expression starting on line 1",
      ""
     ]
    }
   ],
   "source": [
    "orc = UChiSquaredOracle(wd, 0.1, 0.1)"
   ]
  },
  {
   "cell_type": "code",
   "execution_count": 51,
   "metadata": {
    "collapsed": false
   },
   "outputs": [
    {
     "data": {
      "text/plain": [
       "setup (generic function with 18 methods)"
      ]
     },
     "execution_count": 51,
     "metadata": {},
     "output_type": "execute_result"
    }
   ],
   "source": [
    "include(\"examples/UIIDMOracle.jl\")"
   ]
  },
  {
   "cell_type": "code",
   "execution_count": null,
   "metadata": {
    "collapsed": true
   },
   "outputs": [],
   "source": []
  }
 ],
 "metadata": {
  "kernelspec": {
   "display_name": "Julia 0.4.3",
   "language": "julia",
   "name": "julia-0.4"
  },
  "language_info": {
   "file_extension": ".jl",
   "mimetype": "application/julia",
   "name": "julia",
   "version": "0.4.3"
  }
 },
 "nbformat": 4,
 "nbformat_minor": 0
}
